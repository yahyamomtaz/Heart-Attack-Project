{
  "cells": [
    {
      "cell_type": "code",
      "execution_count": null,
      "metadata": {
        "id": "O3BlS2NE0GWT"
      },
      "outputs": [],
      "source": [
        "import numpy as np\n",
        "import tensorflow as tf\n",
        "from tensorflow import feature_column\n",
        "from tensorflow import keras\n",
        "from sklearn.preprocessing import StandardScaler\n",
        "import pandas as pd\n",
        "import seaborn as sns\n",
        "from pylab import rcParams\n",
        "import matplotlib.pyplot as plt\n",
        "from matplotlib import rc\n",
        "from sklearn.model_selection import train_test_split\n",
        "from sklearn.metrics import classification_report, confusion_matrix\n",
        "\n",
        "import warnings\n",
        "warnings.filterwarnings('ignore')"
      ]
    },
    {
      "cell_type": "code",
      "execution_count": null,
      "metadata": {
        "id": "HsM2P_Iu00mu"
      },
      "outputs": [],
      "source": [
        "df = pd.read_csv('datasets/numerical_data.csv')"
      ]
    },
    {
      "cell_type": "code",
      "execution_count": null,
      "metadata": {
        "id": "Y-P_tBMs065q"
      },
      "outputs": [],
      "source": [
        "for column in df.columns:\n",
        "    df[column] = df[column].astype(int)"
      ]
    },
    {
      "cell_type": "code",
      "execution_count": null,
      "metadata": {
        "id": "yUBZsBJn09vw"
      },
      "outputs": [],
      "source": [
        "num_var = ['BMI', 'PhysicalHealth', 'MentalHealth', 'SleepTime']\n",
        "cat_var = ['Smoking', 'AgeCategory', 'Race', 'Diabetic', 'GenHealth', 'Asthma']\n",
        "bin_var = ['AlcoholDrinking', 'Stroke', 'DiffWalking', 'Sex', 'KidneyDisease', 'SkinCancer', 'PhysicalActivity']"
      ]
    },
    {
      "cell_type": "code",
      "execution_count": null,
      "metadata": {
        "id": "PP6tIaN1b9fU"
      },
      "outputs": [],
      "source": [
        "target = df.pop('HeartDisease')\n",
        "X_train, X_test, y_train, y_test = train_test_split(df, target, test_size=0.2, random_state=42)"
      ]
    },
    {
      "cell_type": "code",
      "execution_count": null,
      "metadata": {
        "id": "Apcnrtd_cCXr"
      },
      "outputs": [],
      "source": [
        "# Normalize numerical features\n",
        "scaler = StandardScaler()\n",
        "X_train[num_var] = scaler.fit_transform(X_train[num_var])\n",
        "X_test[num_var] = scaler.transform(X_test[num_var])"
      ]
    },
    {
      "cell_type": "code",
      "execution_count": null,
      "metadata": {
        "colab": {
          "base_uri": "https://localhost:8080/"
        },
        "id": "dVbtOkfqcV6B",
        "outputId": "63bc5a77-50a1-42fd-f7fa-419403014705"
      },
      "outputs": [
        {
          "name": "stderr",
          "output_type": "stream",
          "text": [
            "WARNING:tensorflow:From <ipython-input-10-c4c41fad3401>:6: numeric_column (from tensorflow.python.feature_column.feature_column_v2) is deprecated and will be removed in a future version.\n",
            "Instructions for updating:\n",
            "Use Keras preprocessing layers instead, either directly or via the `tf.keras.utils.FeatureSpace` utility. Each of `tf.feature_column.*` has a functional equivalent in `tf.keras.layers` for feature preprocessing when training a Keras model.\n",
            "WARNING:tensorflow:From <ipython-input-10-c4c41fad3401>:11: categorical_column_with_vocabulary_list (from tensorflow.python.feature_column.feature_column_v2) is deprecated and will be removed in a future version.\n",
            "Instructions for updating:\n",
            "Use Keras preprocessing layers instead, either directly or via the `tf.keras.utils.FeatureSpace` utility. Each of `tf.feature_column.*` has a functional equivalent in `tf.keras.layers` for feature preprocessing when training a Keras model.\n",
            "WARNING:tensorflow:From <ipython-input-10-c4c41fad3401>:12: indicator_column (from tensorflow.python.feature_column.feature_column_v2) is deprecated and will be removed in a future version.\n",
            "Instructions for updating:\n",
            "Use Keras preprocessing layers instead, either directly or via the `tf.keras.utils.FeatureSpace` utility. Each of `tf.feature_column.*` has a functional equivalent in `tf.keras.layers` for feature preprocessing when training a Keras model.\n"
          ]
        }
      ],
      "source": [
        "# Define feature columns\n",
        "feature_columns = []\n",
        "\n",
        "# Numeric feature columns\n",
        "for feature_name in num_var:\n",
        "    feature_columns.append(tf.feature_column.numeric_column(feature_name, dtype=tf.float32))\n",
        "\n",
        "# Categorical feature columns (use one-hot encoding)\n",
        "for feature_name in cat_var:\n",
        "    vocabulary_list = df[feature_name].unique()\n",
        "    cat_column = tf.feature_column.categorical_column_with_vocabulary_list(feature_name, vocabulary_list)\n",
        "    one_hot_column = tf.feature_column.indicator_column(cat_column)\n",
        "    feature_columns.append(one_hot_column)\n",
        "\n",
        "# Binary feature columns (use one-hot encoding)\n",
        "for feature_name in bin_var:\n",
        "    vocabulary_list = df[feature_name].unique()\n",
        "    bin_column = tf.feature_column.categorical_column_with_vocabulary_list(feature_name, vocabulary_list)\n",
        "    one_hot_column = tf.feature_column.indicator_column(bin_column)\n",
        "    feature_columns.append(one_hot_column)"
      ]
    },
    {
      "cell_type": "code",
      "execution_count": null,
      "metadata": {
        "id": "Ps95grM9fK2-"
      },
      "outputs": [],
      "source": [
        "# Build and compile the model\n",
        "model = tf.keras.Sequential([\n",
        "    tf.keras.layers.DenseFeatures(feature_columns),\n",
        "    tf.keras.layers.Dense(units=128, activation='relu'),\n",
        "    tf.keras.layers.Dropout(rate=0.2),\n",
        "    tf.keras.layers.Dense(units=128, activation='relu'),\n",
        "    tf.keras.layers.Dense(units=1, activation='sigmoid')\n",
        "])"
      ]
    },
    {
      "cell_type": "code",
      "execution_count": null,
      "metadata": {
        "id": "80gVrWrifRlL"
      },
      "outputs": [],
      "source": [
        "model.compile(optimizer='adam', loss='binary_crossentropy', metrics=['accuracy'])"
      ]
    },
    {
      "cell_type": "code",
      "execution_count": null,
      "metadata": {
        "id": "9dIYoMM1fUTf"
      },
      "outputs": [],
      "source": [
        "# Convert data to TensorFlow datasets\n",
        "train_ds = tf.data.Dataset.from_tensor_slices((dict(X_train), y_train)).batch(32)\n",
        "eval_ds = tf.data.Dataset.from_tensor_slices((dict(X_test), y_test)).batch(32)"
      ]
    },
    {
      "cell_type": "code",
      "execution_count": null,
      "metadata": {
        "id": "DsYsMAFUfXiO"
      },
      "outputs": [],
      "source": [
        "# Implement early stopping\n",
        "early_stopping = tf.keras.callbacks.EarlyStopping(\n",
        "    monitor='val_loss',\n",
        "    patience=10,  # Number of epochs with no improvement after which training will be stopped.\n",
        "    restore_best_weights=True  # Restore model weights from the epoch with the best value of the monitored quantity.\n",
        ")"
      ]
    },
    {
      "cell_type": "code",
      "execution_count": null,
      "metadata": {
        "colab": {
          "base_uri": "https://localhost:8080/"
        },
        "id": "JaujQ8q5fbdA",
        "outputId": "060d697c-0612-4cbf-df5c-876ef354ce23"
      },
      "outputs": [
        {
          "name": "stdout",
          "output_type": "stream",
          "text": [
            "Epoch 1/100\n",
            "9496/9496 [==============================] - 62s 6ms/step - loss: 0.1841 - accuracy: 0.9390 - val_loss: 0.1800 - val_accuracy: 0.9385\n",
            "Epoch 2/100\n",
            "9496/9496 [==============================] - 55s 6ms/step - loss: 0.1793 - accuracy: 0.9395 - val_loss: 0.1781 - val_accuracy: 0.9390\n",
            "Epoch 3/100\n",
            "9496/9496 [==============================] - 45s 5ms/step - loss: 0.1777 - accuracy: 0.9397 - val_loss: 0.1775 - val_accuracy: 0.9393\n",
            "Epoch 4/100\n",
            "9496/9496 [==============================] - 44s 5ms/step - loss: 0.1766 - accuracy: 0.9400 - val_loss: 0.1766 - val_accuracy: 0.9394\n",
            "Epoch 5/100\n",
            "9496/9496 [==============================] - 48s 5ms/step - loss: 0.1760 - accuracy: 0.9402 - val_loss: 0.1762 - val_accuracy: 0.9393\n",
            "Epoch 6/100\n",
            "9496/9496 [==============================] - 46s 5ms/step - loss: 0.1753 - accuracy: 0.9403 - val_loss: 0.1759 - val_accuracy: 0.9394\n",
            "Epoch 7/100\n",
            "9496/9496 [==============================] - 48s 5ms/step - loss: 0.1746 - accuracy: 0.9406 - val_loss: 0.1757 - val_accuracy: 0.9398\n",
            "Epoch 8/100\n",
            "9496/9496 [==============================] - 42s 4ms/step - loss: 0.1739 - accuracy: 0.9409 - val_loss: 0.1752 - val_accuracy: 0.9402\n",
            "Epoch 9/100\n",
            "9496/9496 [==============================] - 44s 5ms/step - loss: 0.1735 - accuracy: 0.9411 - val_loss: 0.1749 - val_accuracy: 0.9398\n",
            "Epoch 10/100\n",
            "9496/9496 [==============================] - 42s 4ms/step - loss: 0.1728 - accuracy: 0.9410 - val_loss: 0.1747 - val_accuracy: 0.9400\n",
            "Epoch 11/100\n",
            "9496/9496 [==============================] - 45s 5ms/step - loss: 0.1723 - accuracy: 0.9414 - val_loss: 0.1746 - val_accuracy: 0.9401\n",
            "Epoch 12/100\n",
            "9496/9496 [==============================] - 46s 5ms/step - loss: 0.1717 - accuracy: 0.9415 - val_loss: 0.1742 - val_accuracy: 0.9405\n",
            "Epoch 13/100\n",
            "9496/9496 [==============================] - 44s 5ms/step - loss: 0.1715 - accuracy: 0.9417 - val_loss: 0.1742 - val_accuracy: 0.9406\n",
            "Epoch 14/100\n",
            "9496/9496 [==============================] - 44s 5ms/step - loss: 0.1710 - accuracy: 0.9418 - val_loss: 0.1738 - val_accuracy: 0.9406\n",
            "Epoch 15/100\n",
            "9488/9496 [============================>.] - ETA: 0s - loss: 0.1706 - accuracy: 0.9423"
          ]
        }
      ],
      "source": [
        "# Train the model\n",
        "history = model.fit(train_ds, validation_data=eval_ds, epochs=100, callbacks=[early_stopping])"
      ]
    },
    {
      "cell_type": "code",
      "execution_count": null,
      "metadata": {
        "id": "9mMz4ZQBfe4a"
      },
      "outputs": [],
      "source": [
        "# Evaluate the model\n",
        "predictions = model.predict(eval_ds)\n",
        "bin_predictions = [1 if p > 0.5 else 0 for p in predictions]"
      ]
    },
    {
      "cell_type": "code",
      "execution_count": null,
      "metadata": {
        "id": "CsA2IZJffhIQ"
      },
      "outputs": [],
      "source": [
        "print(classification_report(y_test, bin_predictions))"
      ]
    },
    {
      "cell_type": "code",
      "execution_count": null,
      "metadata": {
        "id": "dfJE6_0Efl5E"
      },
      "outputs": [],
      "source": [
        "# Plot training history\n",
        "plt.figure(figsize=(12, 6))\n",
        "\n",
        "plt.subplot(1, 2, 1)\n",
        "plt.plot(history.history['loss'], label='Training Loss')\n",
        "plt.plot(history.history['val_loss'], label='Validation Loss')\n",
        "plt.legend()\n",
        "plt.title('Loss vs. Epochs')\n",
        "plt.xlabel('Epochs')\n",
        "plt.ylabel('Loss')\n",
        "\n",
        "plt.show()"
      ]
    },
    {
      "cell_type": "code",
      "execution_count": null,
      "metadata": {
        "id": "yYBHeetVfn16"
      },
      "outputs": [],
      "source": [
        "plt.figure(figsize=(12, 6))\n",
        "\n",
        "plt.subplot(1, 2, 2)\n",
        "plt.plot(history.history['accuracy'], label='Training Accuracy')\n",
        "plt.plot(history.history['val_accuracy'], label='Validation Accuracy')\n",
        "plt.legend()\n",
        "plt.title('Accuracy vs. Epochs')\n",
        "plt.xlabel('Epochs')\n",
        "plt.ylabel('Accuracy')\n",
        "\n",
        "plt.show()"
      ]
    },
    {
      "cell_type": "markdown",
      "metadata": {
        "id": "kTjQIH4UeE1C"
      },
      "source": [
        "OLD MODEL"
      ]
    },
    {
      "cell_type": "code",
      "execution_count": null,
      "metadata": {
        "colab": {
          "base_uri": "https://localhost:8080/"
        },
        "id": "mvjg9SFF1AVh",
        "outputId": "7449d032-6c09-49e6-c8ec-7583e05f4800"
      },
      "outputs": [
        {
          "name": "stderr",
          "output_type": "stream",
          "text": [
            "WARNING:tensorflow:From <ipython-input-7-4addf9733532>:2: numeric_column (from tensorflow.python.feature_column.feature_column_v2) is deprecated and will be removed in a future version.\n",
            "Instructions for updating:\n",
            "Use Keras preprocessing layers instead, either directly or via the `tf.keras.utils.FeatureSpace` utility. Each of `tf.feature_column.*` has a functional equivalent in `tf.keras.layers` for feature preprocessing when training a Keras model.\n",
            "WARNING:tensorflow:From <ipython-input-7-4addf9733532>:5: categorical_column_with_vocabulary_list (from tensorflow.python.feature_column.feature_column_v2) is deprecated and will be removed in a future version.\n",
            "Instructions for updating:\n",
            "Use Keras preprocessing layers instead, either directly or via the `tf.keras.utils.FeatureSpace` utility. Each of `tf.feature_column.*` has a functional equivalent in `tf.keras.layers` for feature preprocessing when training a Keras model.\n",
            "WARNING:tensorflow:From <ipython-input-7-4addf9733532>:8: indicator_column (from tensorflow.python.feature_column.feature_column_v2) is deprecated and will be removed in a future version.\n",
            "Instructions for updating:\n",
            "Use Keras preprocessing layers instead, either directly or via the `tf.keras.utils.FeatureSpace` utility. Each of `tf.feature_column.*` has a functional equivalent in `tf.keras.layers` for feature preprocessing when training a Keras model.\n"
          ]
        }
      ],
      "source": [
        "# Define feature columns for numerical variables\n",
        "num_feature_columns = [feature_column.numeric_column(col) for col in num_var]\n",
        "\n",
        "# Define feature columns for categorical variables\n",
        "cat_feature_columns = [feature_column.categorical_column_with_vocabulary_list(col, vocabulary_list=df[col].unique()) for col in cat_var]\n",
        "\n",
        "# Use one-hot encoding for categorical variables\n",
        "cat_feature_columns = [feature_column.indicator_column(col) for col in cat_feature_columns]\n",
        "\n",
        "# Define feature columns for binary variables\n",
        "bin_feature_columns = [feature_column.categorical_column_with_vocabulary_list(col, vocabulary_list=df[col].unique()) for col in bin_var]\n",
        "\n",
        "# Use one-hot encoding for binary variables\n",
        "bin_feature_columns = [feature_column.indicator_column(col) for col in bin_feature_columns]\n",
        "\n",
        "# Combine all feature columns\n",
        "feature_columns = num_feature_columns + cat_feature_columns + bin_feature_columns"
      ]
    },
    {
      "cell_type": "code",
      "execution_count": null,
      "metadata": {
        "id": "0GiuwDxg1B_Q"
      },
      "outputs": [],
      "source": [
        "def create_dataset(dataframe, batch_size=32):\n",
        "  dataframe = dataframe.copy()\n",
        "  labels = dataframe.pop('HeartDisease')\n",
        "  return tf.data.Dataset.from_tensor_slices((dict(dataframe), labels)) \\\n",
        "          .shuffle(buffer_size=len(dataframe)) \\\n",
        "          .batch(batch_size)"
      ]
    },
    {
      "cell_type": "code",
      "execution_count": null,
      "metadata": {
        "id": "eaZh0n0f1Evp"
      },
      "outputs": [],
      "source": [
        "train, test = train_test_split(df, test_size=0.2, random_state=42)"
      ]
    },
    {
      "cell_type": "code",
      "execution_count": null,
      "metadata": {
        "id": "emLl-2PJ1HlB"
      },
      "outputs": [],
      "source": [
        "train_ds = create_dataset(train)\n",
        "test_ds = create_dataset(test)"
      ]
    },
    {
      "cell_type": "code",
      "execution_count": null,
      "metadata": {
        "colab": {
          "base_uri": "https://localhost:8080/",
          "height": 192
        },
        "id": "dCb-4sCW51F3",
        "outputId": "2e2143dd-7824-45dd-cf6a-81f14dbd8aa7"
      },
      "outputs": [
        {
          "ename": "TypeError",
          "evalue": "ignored",
          "output_type": "error",
          "traceback": [
            "\u001b[0;31m---------------------------------------------------------------------------\u001b[0m",
            "\u001b[0;31mTypeError\u001b[0m                                 Traceback (most recent call last)",
            "\u001b[0;32m<ipython-input-27-7ec1e134209b>\u001b[0m in \u001b[0;36m<cell line: 1>\u001b[0;34m()\u001b[0m\n\u001b[0;32m----> 1\u001b[0;31m \u001b[0my_test\u001b[0m \u001b[0;34m=\u001b[0m \u001b[0mtest_ds\u001b[0m\u001b[0;34m[\u001b[0m\u001b[0;34m'HeartDisease'\u001b[0m\u001b[0;34m]\u001b[0m\u001b[0;34m\u001b[0m\u001b[0;34m\u001b[0m\u001b[0m\n\u001b[0m",
            "\u001b[0;31mTypeError\u001b[0m: '_BatchDataset' object is not subscriptable"
          ]
        }
      ],
      "source": [
        "y_test = test_ds['HeartDisease']"
      ]
    },
    {
      "cell_type": "code",
      "execution_count": null,
      "metadata": {
        "id": "1rdjhnN01J2E"
      },
      "outputs": [],
      "source": [
        "model = tf.keras.models.Sequential([\n",
        "  tf.keras.layers.DenseFeatures(feature_columns=feature_columns),\n",
        "  tf.keras.layers.Dense(units=128, activation='relu'),\n",
        "  tf.keras.layers.Dropout(rate=0.2),\n",
        "  tf.keras.layers.Dense(units=128, activation='relu'),\n",
        "  tf.keras.layers.Dense(units=1, activation='sigmoid')\n",
        "])"
      ]
    },
    {
      "cell_type": "code",
      "execution_count": null,
      "metadata": {
        "colab": {
          "base_uri": "https://localhost:8080/"
        },
        "id": "QrAH4Zsu1NMf",
        "outputId": "d3a60771-c304-47f7-a72a-790111a67c18"
      },
      "outputs": [
        {
          "name": "stdout",
          "output_type": "stream",
          "text": [
            "Epoch 1/100\n",
            "9496/9496 [==============================] - 56s 5ms/step - loss: 0.1892 - accuracy: 0.9389 - val_loss: 0.1831 - val_accuracy: 0.9382\n",
            "Epoch 2/100\n",
            "9496/9496 [==============================] - 58s 6ms/step - loss: 0.1824 - accuracy: 0.9391 - val_loss: 0.1805 - val_accuracy: 0.9385\n",
            "Epoch 3/100\n",
            "9496/9496 [==============================] - 57s 6ms/step - loss: 0.1809 - accuracy: 0.9393 - val_loss: 0.1801 - val_accuracy: 0.9389\n",
            "Epoch 4/100\n",
            "9496/9496 [==============================] - 63s 6ms/step - loss: 0.1799 - accuracy: 0.9397 - val_loss: 0.1800 - val_accuracy: 0.9385\n",
            "Epoch 5/100\n",
            "9496/9496 [==============================] - 57s 6ms/step - loss: 0.1790 - accuracy: 0.9400 - val_loss: 0.1796 - val_accuracy: 0.9389\n",
            "Epoch 6/100\n",
            "9496/9496 [==============================] - 54s 5ms/step - loss: 0.1785 - accuracy: 0.9400 - val_loss: 0.1795 - val_accuracy: 0.9400\n",
            "Epoch 7/100\n",
            "9496/9496 [==============================] - 58s 6ms/step - loss: 0.1780 - accuracy: 0.9402 - val_loss: 0.1780 - val_accuracy: 0.9399\n",
            "Epoch 8/100\n",
            "9496/9496 [==============================] - 65s 6ms/step - loss: 0.1778 - accuracy: 0.9403 - val_loss: 0.1772 - val_accuracy: 0.9401\n",
            "Epoch 9/100\n",
            "9496/9496 [==============================] - 55s 5ms/step - loss: 0.1774 - accuracy: 0.9405 - val_loss: 0.1802 - val_accuracy: 0.9400\n",
            "Epoch 10/100\n",
            "9496/9496 [==============================] - 56s 6ms/step - loss: 0.1771 - accuracy: 0.9406 - val_loss: 0.1768 - val_accuracy: 0.9400\n",
            "Epoch 11/100\n",
            "9496/9496 [==============================] - 55s 6ms/step - loss: 0.1765 - accuracy: 0.9408 - val_loss: 0.1769 - val_accuracy: 0.9403\n",
            "Epoch 12/100\n",
            "9496/9496 [==============================] - 62s 6ms/step - loss: 0.1767 - accuracy: 0.9407 - val_loss: 0.1805 - val_accuracy: 0.9402\n",
            "Epoch 13/100\n",
            "9496/9496 [==============================] - 57s 6ms/step - loss: 0.1763 - accuracy: 0.9410 - val_loss: 0.1784 - val_accuracy: 0.9404\n",
            "Epoch 14/100\n",
            "9496/9496 [==============================] - 57s 6ms/step - loss: 0.1760 - accuracy: 0.9407 - val_loss: 0.1808 - val_accuracy: 0.9401\n",
            "Epoch 15/100\n",
            "9496/9496 [==============================] - 57s 6ms/step - loss: 0.1759 - accuracy: 0.9410 - val_loss: 0.1761 - val_accuracy: 0.9405\n",
            "Epoch 16/100\n",
            "9496/9496 [==============================] - 62s 6ms/step - loss: 0.1758 - accuracy: 0.9411 - val_loss: 0.1771 - val_accuracy: 0.9409\n",
            "Epoch 17/100\n",
            "9496/9496 [==============================] - 55s 5ms/step - loss: 0.1758 - accuracy: 0.9410 - val_loss: 0.1770 - val_accuracy: 0.9405\n",
            "Epoch 18/100\n",
            "9496/9496 [==============================] - 56s 6ms/step - loss: 0.1754 - accuracy: 0.9411 - val_loss: 0.1768 - val_accuracy: 0.9406\n",
            "Epoch 19/100\n",
            "9496/9496 [==============================] - 56s 6ms/step - loss: 0.1754 - accuracy: 0.9410 - val_loss: 0.1774 - val_accuracy: 0.9403\n",
            "Epoch 20/100\n",
            "9496/9496 [==============================] - 60s 6ms/step - loss: 0.1752 - accuracy: 0.9412 - val_loss: 0.1756 - val_accuracy: 0.9406\n",
            "Epoch 21/100\n",
            "9496/9496 [==============================] - 58s 6ms/step - loss: 0.1750 - accuracy: 0.9413 - val_loss: 0.1765 - val_accuracy: 0.9409\n",
            "Epoch 22/100\n",
            "9496/9496 [==============================] - 57s 6ms/step - loss: 0.1752 - accuracy: 0.9413 - val_loss: 0.1775 - val_accuracy: 0.9401\n",
            "Epoch 23/100\n",
            "9496/9496 [==============================] - 67s 6ms/step - loss: 0.1747 - accuracy: 0.9413 - val_loss: 0.1762 - val_accuracy: 0.9405\n",
            "Epoch 24/100\n",
            "9496/9496 [==============================] - 67s 7ms/step - loss: 0.1747 - accuracy: 0.9412 - val_loss: 0.1755 - val_accuracy: 0.9407\n",
            "Epoch 25/100\n",
            "9496/9496 [==============================] - 61s 6ms/step - loss: 0.1745 - accuracy: 0.9414 - val_loss: 0.1759 - val_accuracy: 0.9405\n",
            "Epoch 26/100\n",
            "9496/9496 [==============================] - 57s 6ms/step - loss: 0.1745 - accuracy: 0.9414 - val_loss: 0.1764 - val_accuracy: 0.9407\n",
            "Epoch 27/100\n",
            "9496/9496 [==============================] - 57s 6ms/step - loss: 0.1742 - accuracy: 0.9416 - val_loss: 0.1754 - val_accuracy: 0.9409\n",
            "Epoch 28/100\n",
            "9496/9496 [==============================] - 60s 6ms/step - loss: 0.1744 - accuracy: 0.9414 - val_loss: 0.1753 - val_accuracy: 0.9407\n",
            "Epoch 29/100\n",
            "9496/9496 [==============================] - 61s 6ms/step - loss: 0.1741 - accuracy: 0.9416 - val_loss: 0.1804 - val_accuracy: 0.9405\n",
            "Epoch 30/100\n",
            "9496/9496 [==============================] - 59s 6ms/step - loss: 0.1740 - accuracy: 0.9416 - val_loss: 0.1758 - val_accuracy: 0.9407\n",
            "Epoch 31/100\n",
            "9496/9496 [==============================] - 59s 6ms/step - loss: 0.1740 - accuracy: 0.9417 - val_loss: 0.1751 - val_accuracy: 0.9410\n",
            "Epoch 32/100\n",
            "9496/9496 [==============================] - 63s 6ms/step - loss: 0.1737 - accuracy: 0.9418 - val_loss: 0.1760 - val_accuracy: 0.9410\n",
            "Epoch 33/100\n",
            "9496/9496 [==============================] - 60s 6ms/step - loss: 0.1736 - accuracy: 0.9418 - val_loss: 0.1750 - val_accuracy: 0.9407\n",
            "Epoch 34/100\n",
            "9496/9496 [==============================] - 58s 6ms/step - loss: 0.1734 - accuracy: 0.9418 - val_loss: 0.1763 - val_accuracy: 0.9409\n",
            "Epoch 35/100\n",
            "9496/9496 [==============================] - 58s 6ms/step - loss: 0.1739 - accuracy: 0.9417 - val_loss: 0.1807 - val_accuracy: 0.9410\n",
            "Epoch 36/100\n",
            "9496/9496 [==============================] - 60s 6ms/step - loss: 0.1736 - accuracy: 0.9418 - val_loss: 0.1766 - val_accuracy: 0.9410\n",
            "Epoch 37/100\n",
            "9496/9496 [==============================] - 55s 5ms/step - loss: 0.1736 - accuracy: 0.9418 - val_loss: 0.1786 - val_accuracy: 0.9401\n",
            "Epoch 38/100\n",
            "9496/9496 [==============================] - 59s 6ms/step - loss: 0.1735 - accuracy: 0.9418 - val_loss: 0.1763 - val_accuracy: 0.9408\n",
            "Epoch 39/100\n",
            "9496/9496 [==============================] - 58s 6ms/step - loss: 0.1733 - accuracy: 0.9419 - val_loss: 0.1761 - val_accuracy: 0.9406\n",
            "Epoch 40/100\n",
            "9496/9496 [==============================] - 71s 7ms/step - loss: 0.1736 - accuracy: 0.9417 - val_loss: 0.1775 - val_accuracy: 0.9412\n",
            "Epoch 41/100\n",
            "9496/9496 [==============================] - 53s 5ms/step - loss: 0.1730 - accuracy: 0.9421 - val_loss: 0.1764 - val_accuracy: 0.9409\n",
            "Epoch 42/100\n",
            "9496/9496 [==============================] - 57s 6ms/step - loss: 0.1734 - accuracy: 0.9418 - val_loss: 0.1782 - val_accuracy: 0.9411\n",
            "Epoch 43/100\n",
            "9496/9496 [==============================] - 70s 7ms/step - loss: 0.1734 - accuracy: 0.9419 - val_loss: 0.1756 - val_accuracy: 0.9409\n",
            "Epoch 44/100\n",
            "9496/9496 [==============================] - 61s 6ms/step - loss: 0.1732 - accuracy: 0.9420 - val_loss: 0.1762 - val_accuracy: 0.9414\n",
            "Epoch 45/100\n",
            "9496/9496 [==============================] - 55s 5ms/step - loss: 0.1731 - accuracy: 0.9420 - val_loss: 0.1758 - val_accuracy: 0.9410\n",
            "Epoch 46/100\n",
            "9496/9496 [==============================] - 61s 6ms/step - loss: 0.1728 - accuracy: 0.9418 - val_loss: 0.1790 - val_accuracy: 0.9411\n",
            "Epoch 47/100\n",
            "9496/9496 [==============================] - 61s 6ms/step - loss: 0.1730 - accuracy: 0.9419 - val_loss: 0.1775 - val_accuracy: 0.9405\n",
            "Epoch 48/100\n",
            "9496/9496 [==============================] - 62s 6ms/step - loss: 0.1729 - accuracy: 0.9420 - val_loss: 0.1772 - val_accuracy: 0.9410\n",
            "Epoch 49/100\n",
            "9496/9496 [==============================] - 59s 6ms/step - loss: 0.1728 - accuracy: 0.9419 - val_loss: 0.1792 - val_accuracy: 0.9409\n",
            "Epoch 50/100\n",
            "9496/9496 [==============================] - 61s 6ms/step - loss: 0.1730 - accuracy: 0.9420 - val_loss: 0.1759 - val_accuracy: 0.9410\n",
            "Epoch 51/100\n",
            "9496/9496 [==============================] - 58s 6ms/step - loss: 0.1729 - accuracy: 0.9420 - val_loss: 0.1760 - val_accuracy: 0.9408\n",
            "Epoch 52/100\n",
            "9496/9496 [==============================] - 58s 6ms/step - loss: 0.1729 - accuracy: 0.9420 - val_loss: 0.1769 - val_accuracy: 0.9403\n",
            "Epoch 53/100\n",
            "9496/9496 [==============================] - 54s 5ms/step - loss: 0.1728 - accuracy: 0.9421 - val_loss: 0.1764 - val_accuracy: 0.9413\n",
            "Epoch 54/100\n",
            "9496/9496 [==============================] - 58s 6ms/step - loss: 0.1727 - accuracy: 0.9421 - val_loss: 0.1758 - val_accuracy: 0.9408\n",
            "Epoch 55/100\n",
            "9496/9496 [==============================] - 59s 6ms/step - loss: 0.1728 - accuracy: 0.9421 - val_loss: 0.1773 - val_accuracy: 0.9412\n",
            "Epoch 56/100\n",
            "9496/9496 [==============================] - 67s 7ms/step - loss: 0.1729 - accuracy: 0.9421 - val_loss: 0.1760 - val_accuracy: 0.9409\n",
            "Epoch 57/100\n",
            "9496/9496 [==============================] - 60s 6ms/step - loss: 0.1723 - accuracy: 0.9420 - val_loss: 0.1794 - val_accuracy: 0.9409\n",
            "Epoch 58/100\n",
            "9496/9496 [==============================] - 62s 6ms/step - loss: 0.1725 - accuracy: 0.9419 - val_loss: 0.1804 - val_accuracy: 0.9410\n",
            "Epoch 59/100\n",
            "9496/9496 [==============================] - 56s 6ms/step - loss: 0.1727 - accuracy: 0.9420 - val_loss: 0.1764 - val_accuracy: 0.9411\n",
            "Epoch 60/100\n",
            "9496/9496 [==============================] - 58s 6ms/step - loss: 0.1726 - accuracy: 0.9423 - val_loss: 0.1774 - val_accuracy: 0.9410\n",
            "Epoch 61/100\n",
            "9496/9496 [==============================] - 55s 5ms/step - loss: 0.1723 - accuracy: 0.9421 - val_loss: 0.1778 - val_accuracy: 0.9411\n",
            "Epoch 62/100\n",
            "9496/9496 [==============================] - 59s 6ms/step - loss: 0.1726 - accuracy: 0.9422 - val_loss: 0.1778 - val_accuracy: 0.9411\n",
            "Epoch 63/100\n",
            "9496/9496 [==============================] - 57s 6ms/step - loss: 0.1724 - accuracy: 0.9421 - val_loss: 0.1767 - val_accuracy: 0.9412\n",
            "Epoch 64/100\n",
            "9496/9496 [==============================] - 61s 6ms/step - loss: 0.1724 - accuracy: 0.9422 - val_loss: 0.1777 - val_accuracy: 0.9407\n",
            "Epoch 65/100\n",
            "9496/9496 [==============================] - 57s 6ms/step - loss: 0.1723 - accuracy: 0.9422 - val_loss: 0.1787 - val_accuracy: 0.9412\n",
            "Epoch 66/100\n",
            "9496/9496 [==============================] - 56s 6ms/step - loss: 0.1725 - accuracy: 0.9421 - val_loss: 0.1786 - val_accuracy: 0.9412\n",
            "Epoch 67/100\n",
            "9496/9496 [==============================] - 62s 6ms/step - loss: 0.1722 - accuracy: 0.9421 - val_loss: 0.1776 - val_accuracy: 0.9409\n",
            "Epoch 68/100\n",
            "9496/9496 [==============================] - 55s 5ms/step - loss: 0.1724 - accuracy: 0.9422 - val_loss: 0.1799 - val_accuracy: 0.9410\n",
            "Epoch 69/100\n",
            "9496/9496 [==============================] - 56s 6ms/step - loss: 0.1724 - accuracy: 0.9422 - val_loss: 0.1777 - val_accuracy: 0.9410\n",
            "Epoch 70/100\n",
            "9496/9496 [==============================] - 55s 6ms/step - loss: 0.1723 - accuracy: 0.9423 - val_loss: 0.1791 - val_accuracy: 0.9411\n",
            "Epoch 71/100\n",
            "9496/9496 [==============================] - 56s 6ms/step - loss: 0.1722 - accuracy: 0.9423 - val_loss: 0.1778 - val_accuracy: 0.9410\n",
            "Epoch 72/100\n",
            "9496/9496 [==============================] - 64s 6ms/step - loss: 0.1722 - accuracy: 0.9422 - val_loss: 0.1776 - val_accuracy: 0.9410\n",
            "Epoch 73/100\n",
            "9496/9496 [==============================] - 56s 6ms/step - loss: 0.1723 - accuracy: 0.9421 - val_loss: 0.1796 - val_accuracy: 0.9410\n",
            "Epoch 74/100\n",
            "9496/9496 [==============================] - 60s 6ms/step - loss: 0.1724 - accuracy: 0.9423 - val_loss: 0.1775 - val_accuracy: 0.9410\n",
            "Epoch 75/100\n",
            "9496/9496 [==============================] - 58s 6ms/step - loss: 0.1722 - accuracy: 0.9423 - val_loss: 0.1807 - val_accuracy: 0.9409\n",
            "Epoch 76/100\n",
            "9496/9496 [==============================] - 55s 5ms/step - loss: 0.1722 - accuracy: 0.9423 - val_loss: 0.1784 - val_accuracy: 0.9408\n",
            "Epoch 77/100\n",
            "9496/9496 [==============================] - 60s 6ms/step - loss: 0.1720 - accuracy: 0.9423 - val_loss: 0.1786 - val_accuracy: 0.9410\n",
            "Epoch 78/100\n",
            "9496/9496 [==============================] - 58s 6ms/step - loss: 0.1721 - accuracy: 0.9421 - val_loss: 0.1799 - val_accuracy: 0.9411\n",
            "Epoch 79/100\n",
            "9496/9496 [==============================] - 53s 5ms/step - loss: 0.1720 - accuracy: 0.9424 - val_loss: 0.1779 - val_accuracy: 0.9411\n",
            "Epoch 80/100\n",
            "9496/9496 [==============================] - 58s 6ms/step - loss: 0.1719 - accuracy: 0.9423 - val_loss: 0.1780 - val_accuracy: 0.9408\n",
            "Epoch 81/100\n",
            "9496/9496 [==============================] - 54s 5ms/step - loss: 0.1722 - accuracy: 0.9422 - val_loss: 0.1794 - val_accuracy: 0.9412\n",
            "Epoch 82/100\n",
            "9496/9496 [==============================] - 55s 5ms/step - loss: 0.1719 - accuracy: 0.9423 - val_loss: 0.1784 - val_accuracy: 0.9412\n",
            "Epoch 83/100\n",
            "9496/9496 [==============================] - 54s 5ms/step - loss: 0.1719 - accuracy: 0.9423 - val_loss: 0.1797 - val_accuracy: 0.9409\n",
            "Epoch 84/100\n",
            "9496/9496 [==============================] - 54s 5ms/step - loss: 0.1720 - accuracy: 0.9422 - val_loss: 0.1813 - val_accuracy: 0.9410\n",
            "Epoch 85/100\n",
            "9496/9496 [==============================] - 56s 6ms/step - loss: 0.1719 - accuracy: 0.9424 - val_loss: 0.1784 - val_accuracy: 0.9414\n",
            "Epoch 86/100\n",
            "9496/9496 [==============================] - 57s 6ms/step - loss: 0.1720 - accuracy: 0.9423 - val_loss: 0.1791 - val_accuracy: 0.9413\n",
            "Epoch 87/100\n",
            "9496/9496 [==============================] - 56s 5ms/step - loss: 0.1720 - accuracy: 0.9423 - val_loss: 0.1830 - val_accuracy: 0.9409\n",
            "Epoch 88/100\n",
            "9496/9496 [==============================] - 62s 6ms/step - loss: 0.1721 - accuracy: 0.9422 - val_loss: 0.1788 - val_accuracy: 0.9412\n",
            "Epoch 89/100\n",
            "9496/9496 [==============================] - 55s 5ms/step - loss: 0.1721 - accuracy: 0.9424 - val_loss: 0.1791 - val_accuracy: 0.9412\n",
            "Epoch 90/100\n",
            "9496/9496 [==============================] - 57s 6ms/step - loss: 0.1722 - accuracy: 0.9424 - val_loss: 0.1783 - val_accuracy: 0.9411\n",
            "Epoch 91/100\n",
            "9496/9496 [==============================] - 51s 5ms/step - loss: 0.1719 - accuracy: 0.9424 - val_loss: 0.1796 - val_accuracy: 0.9414\n",
            "Epoch 92/100\n",
            "9496/9496 [==============================] - 48s 5ms/step - loss: 0.1719 - accuracy: 0.9421 - val_loss: 0.1785 - val_accuracy: 0.9415\n",
            "Epoch 93/100\n",
            "9496/9496 [==============================] - 61s 6ms/step - loss: 0.1723 - accuracy: 0.9422 - val_loss: 0.1814 - val_accuracy: 0.9410\n",
            "Epoch 94/100\n",
            "9496/9496 [==============================] - 56s 5ms/step - loss: 0.1722 - accuracy: 0.9423 - val_loss: 0.1802 - val_accuracy: 0.9411\n",
            "Epoch 95/100\n",
            "9496/9496 [==============================] - 62s 6ms/step - loss: 0.1719 - accuracy: 0.9423 - val_loss: 0.1776 - val_accuracy: 0.9413\n",
            "Epoch 96/100\n",
            "9496/9496 [==============================] - 67s 7ms/step - loss: 0.1719 - accuracy: 0.9423 - val_loss: 0.1789 - val_accuracy: 0.9412\n",
            "Epoch 97/100\n",
            "9496/9496 [==============================] - 53s 5ms/step - loss: 0.1720 - accuracy: 0.9423 - val_loss: 0.1787 - val_accuracy: 0.9413\n",
            "Epoch 98/100\n",
            "9496/9496 [==============================] - 57s 6ms/step - loss: 0.1720 - accuracy: 0.9425 - val_loss: 0.1821 - val_accuracy: 0.9412\n",
            "Epoch 99/100\n",
            "9496/9496 [==============================] - 56s 6ms/step - loss: 0.1719 - accuracy: 0.9423 - val_loss: 0.1790 - val_accuracy: 0.9410\n",
            "Epoch 100/100\n",
            "9496/9496 [==============================] - 55s 5ms/step - loss: 0.1722 - accuracy: 0.9424 - val_loss: 0.1793 - val_accuracy: 0.9412\n"
          ]
        }
      ],
      "source": [
        "model.compile(optimizer='adam',\n",
        "              loss='binary_crossentropy',\n",
        "              metrics=['accuracy'])\n",
        "\n",
        "history = model.fit(train_ds, validation_data=test_ds, epochs=100, use_multiprocessing=True)"
      ]
    },
    {
      "cell_type": "code",
      "execution_count": null,
      "metadata": {
        "colab": {
          "base_uri": "https://localhost:8080/"
        },
        "id": "lBXL2rMW2tT1",
        "outputId": "1848162c-32e6-4e4e-fc82-4c721ed6757f"
      },
      "outputs": [
        {
          "name": "stdout",
          "output_type": "stream",
          "text": [
            "2374/2374 [==============================] - 11s 4ms/step - loss: 0.1793 - accuracy: 0.9412\n"
          ]
        },
        {
          "data": {
            "text/plain": [
              "[0.17929333448410034, 0.9411803483963013]"
            ]
          },
          "execution_count": 13,
          "metadata": {},
          "output_type": "execute_result"
        }
      ],
      "source": [
        "model.evaluate(test_ds)"
      ]
    },
    {
      "cell_type": "code",
      "execution_count": null,
      "metadata": {
        "colab": {
          "base_uri": "https://localhost:8080/"
        },
        "id": "cgTgit4X2zo9",
        "outputId": "8810d39f-f1c7-4bc3-b5d1-c97353eddadd"
      },
      "outputs": [
        {
          "name": "stdout",
          "output_type": "stream",
          "text": [
            "Model: \"sequential\"\n",
            "_________________________________________________________________\n",
            " Layer (type)                Output Shape              Param #   \n",
            "=================================================================\n",
            " dense_features (DenseFeatu  multiple                  0         \n",
            " res)                                                            \n",
            "                                                                 \n",
            " dense (Dense)               multiple                  7040      \n",
            "                                                                 \n",
            " dropout (Dropout)           multiple                  0         \n",
            "                                                                 \n",
            " dense_1 (Dense)             multiple                  16512     \n",
            "                                                                 \n",
            " dense_2 (Dense)             multiple                  129       \n",
            "                                                                 \n",
            "=================================================================\n",
            "Total params: 23681 (92.50 KB)\n",
            "Trainable params: 23681 (92.50 KB)\n",
            "Non-trainable params: 0 (0.00 Byte)\n",
            "_________________________________________________________________\n",
            "None\n"
          ]
        }
      ],
      "source": [
        "print(model.summary())"
      ]
    },
    {
      "cell_type": "code",
      "execution_count": null,
      "metadata": {
        "colab": {
          "base_uri": "https://localhost:8080/",
          "height": 493
        },
        "id": "zJlyhME73QYS",
        "outputId": "5846c167-75c1-4207-9d72-8172f2e6097d"
      },
      "outputs": [
        {
          "data": {
            "image/png": "[encoded data removed]",
            "text/plain": [
              "<Figure size 640x480 with 1 Axes>"
            ]
          },
          "metadata": {},
          "output_type": "display_data"
        }
      ],
      "source": [
        "plt.plot(history.history['accuracy'])\n",
        "plt.plot(history.history['val_accuracy'])\n",
        "plt.title('model accuracy')\n",
        "plt.ylabel('accuracy')\n",
        "plt.xlabel('epoch')\n",
        "plt.ylim((0, 1))\n",
        "plt.legend(['train', 'test'], loc='upper left');"
      ]
    },
    {
      "cell_type": "code",
      "execution_count": null,
      "metadata": {
        "colab": {
          "base_uri": "https://localhost:8080/",
          "height": 493
        },
        "id": "0M26aWb83jW2",
        "outputId": "e317a3d2-b7ee-4b42-ac8b-7f431a9342a8"
      },
      "outputs": [
        {
          "data": {
            "image/png": "[encoded data removed]",
            "text/plain": [
              "<Figure size 640x480 with 1 Axes>"
            ]
          },
          "metadata": {},
          "output_type": "display_data"
        }
      ],
      "source": [
        "plt.plot(history.history['loss'])\n",
        "plt.plot(history.history['val_loss'])\n",
        "plt.title('model loss')\n",
        "plt.ylabel('loss')\n",
        "plt.xlabel('epoch')\n",
        "plt.legend(['train', 'test'], loc='upper left')\n",
        "plt.show()"
      ]
    },
    {
      "cell_type": "code",
      "execution_count": null,
      "metadata": {
        "colab": {
          "base_uri": "https://localhost:8080/"
        },
        "id": "v9RrCpHY4iwU",
        "outputId": "e90c05ff-2c75-41db-9310-947f2e754942"
      },
      "outputs": [
        {
          "name": "stdout",
          "output_type": "stream",
          "text": [
            "2374/2374 [==============================] - 14s 5ms/step\n"
          ]
        }
      ],
      "source": [
        "predictions = model.predict(test_ds)"
      ]
    },
    {
      "cell_type": "code",
      "execution_count": null,
      "metadata": {
        "id": "gmGm37uU4rHA"
      },
      "outputs": [],
      "source": [
        "bin_predictions = tf.round(predictions).numpy().flatten()"
      ]
    },
    {
      "cell_type": "code",
      "execution_count": null,
      "metadata": {
        "colab": {
          "base_uri": "https://localhost:8080/",
          "height": 192
        },
        "id": "A1DgoKPE4uEm",
        "outputId": "e4344487-cc16-4eb1-9733-7f8118d92713"
      },
      "outputs": [
        {
          "ename": "AttributeError",
          "evalue": "ignored",
          "output_type": "error",
          "traceback": [
            "\u001b[0;31m---------------------------------------------------------------------------\u001b[0m",
            "\u001b[0;31mAttributeError\u001b[0m                            Traceback (most recent call last)",
            "\u001b[0;32m<ipython-input-26-09170f88181a>\u001b[0m in \u001b[0;36m<cell line: 1>\u001b[0;34m()\u001b[0m\n\u001b[0;32m----> 1\u001b[0;31m \u001b[0mprint\u001b[0m\u001b[0;34m(\u001b[0m\u001b[0mclassification_report\u001b[0m\u001b[0;34m(\u001b[0m\u001b[0mpredictions\u001b[0m\u001b[0;34m.\u001b[0m\u001b[0mvalues\u001b[0m\u001b[0;34m,\u001b[0m \u001b[0mbin_predictions\u001b[0m\u001b[0;34m)\u001b[0m\u001b[0;34m)\u001b[0m\u001b[0;34m\u001b[0m\u001b[0;34m\u001b[0m\u001b[0m\n\u001b[0m",
            "\u001b[0;31mAttributeError\u001b[0m: 'numpy.ndarray' object has no attribute 'values'"
          ]
        }
      ],
      "source": [
        "print(classification_report(y_test.values, bin_predictions))"
      ]
    }
  ],
  "metadata": {
    "colab": {
      "provenance": []
    },
    "kernelspec": {
      "display_name": "Python 3 (ipykernel)",
      "language": "python",
      "name": "python3"
    },
    "language_info": {
      "codemirror_mode": {
        "name": "ipython",
        "version": 3
      },
      "file_extension": ".py",
      "mimetype": "text/x-python",
      "name": "python",
      "nbconvert_exporter": "python",
      "pygments_lexer": "ipython3",
      "version": "3.10.8"
    }
  },
  "nbformat": 4,
  "nbformat_minor": 0
}
